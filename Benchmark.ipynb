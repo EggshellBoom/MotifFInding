{
 "cells": [
  {
   "cell_type": "code",
   "execution_count": 141,
   "metadata": {},
   "outputs": [],
   "source": [
    "import random\n",
    "import numpy as np, numpy.random\n",
    "import math\n",
    "import collections \n",
    "import bisect \n",
    "from Bio import SeqIO\n",
    "from Bio.Seq import Seq\n",
    "from Bio.SeqRecord import SeqRecord\n",
    "from Bio.Alphabet import IUPAC"
   ]
  },
  {
   "cell_type": "markdown",
   "metadata": {},
   "source": [
    "# Benchmark stage:\n",
    "## 1) Take as input:\n",
    "### (a) A positive number called ICPC (“information content per column”)\n",
    "### (b) A positive integer called ML (“motif length”)\n",
    "### (c) A positive integer called SL (“sequence length”)\n",
    "### (d) A positive integer called SC (“sequence count”)\n",
    "\n"
   ]
  },
  {
   "cell_type": "code",
   "execution_count": 127,
   "metadata": {},
   "outputs": [],
   "source": [
    "class Benchmark:\n",
    "    \"\"\"a class that generates benmarks\"\"\"\n",
    "    def __init__(self, icpc, ml, sc):\n",
    "        self.ICPC = icpc\n",
    "        self.ML = ml\n",
    "        self.SL = 20\n",
    "        self.SC = sc\n",
    "        self.columns = {}\n",
    "        self.motif = []\n",
    "\n",
    "    # Generate SC random sequences (with uniform frequencies of A,C,G,T). Each random sequence has length SL.\n",
    "    def generate_random_sequence(self):\n",
    "        sequence = ''\n",
    "        for i in range(self.SL):\n",
    "            sequence += (random.choice('ACGT'))\n",
    "        return sequence\n",
    "\n",
    "    # 3) Generate a random motif (position weight matrix) of length ML, with total information content being ICPC * ML. See note on this step at the end of this section.\n",
    "    def generate_random_columns(self):\n",
    "        for i in range(10000):\n",
    "            random_column = list(np.random.dirichlet(np.ones(4)*random.choice([0.01,0.1,1])))\n",
    "            informatio_content = sum([a*math.log(a/0.25,2) if a != 0 else 0 for a in random_column])\n",
    "            self.columns[informatio_content] = random_column\n",
    "        pass\n",
    "\n",
    "    def generate_random_motif(self):\n",
    "        while(True):\n",
    "            motif = []\n",
    "            desired_col_ic = self.ICPC*self.ML\n",
    "            chosen_columns = random.sample(list(self.columns.items()),self.ML)\n",
    "            for item in chosen_columns:\n",
    "                desired_col_ic -= item[0]\n",
    "                motif.append(item[1])\n",
    "            if desired_col_ic <= 0.1 and desired_col_ic >= 0:\n",
    "                self.motif = motif\n",
    "                return motif\n",
    "\n",
    "    # 4) Generate SC strings of length ML each, by sampling from this random motif. Each of these strings will be called a ‘site’. Note: to sample a string from a given motif, consider each column of the motif, from left to right, sample a character according to the probability distribution prescribed by that column, and keep appending to the right end of a string. If this is not clear, ask the TAs. \n",
    "    def generate_site(self):\n",
    "        site = ''\n",
    "        for i in range(self.ML):\n",
    "            a = random.random()\n",
    "            if a <= self.motif[i][0]:\n",
    "                site += 'A'\n",
    "            elif a <= self.motif[i][0] + self.motif[i][1]:\n",
    "                site += 'C'\n",
    "            elif a <= self.motif[i][0] + self.motif[i][1] + self.motif[i][2]:\n",
    "                site += 'G'\n",
    "            elif a <=  1:\n",
    "                site += 'T'\n",
    "        return site\n",
    "\n",
    "\n"
   ]
  },
  {
   "cell_type": "code",
   "execution_count": 128,
   "metadata": {},
   "outputs": [],
   "source": [
    "benchmark = Benchmark(1.5,7,10)"
   ]
  },
  {
   "cell_type": "code",
   "execution_count": 129,
   "metadata": {
    "tags": [
     "outputPrepend"
    ]
   },
   "outputs": [],
   "source": [
    "benchmark.generate_random_columns()"
   ]
  },
  {
   "cell_type": "code",
   "execution_count": 130,
   "metadata": {},
   "outputs": [],
   "source": [
    "motif = benchmark.generate_random_motif()"
   ]
  },
  {
   "cell_type": "code",
   "execution_count": 146,
   "metadata": {},
   "outputs": [],
   "source": [
    "sequences = []\n",
    "locations = []\n",
    "for i in range(benchmark.SC):\n",
    "    sequence = benchmark.generate_random_sequence()\n",
    "    site = benchmark.generate_site()\n",
    "    # plant site\n",
    "    location = random.randrange(benchmark.SL - benchmark.ML)\n",
    "    sequence = sequence[:location] + site + sequence[location+benchmark.ML:]\n",
    "    sequences.append(sequence)\n",
    "    locations.append(location)\n"
   ]
  },
  {
   "cell_type": "code",
   "execution_count": 147,
   "metadata": {},
   "outputs": [
    {
     "output_type": "execute_result",
     "data": {
      "text/plain": "10"
     },
     "metadata": {},
     "execution_count": 147
    }
   ],
   "source": [
    "records = (SeqRecord(Seq(seq, IUPAC.IUPACData), str(index)) for index,seq in enumerate(sequences) )\n",
    "SeqIO.write(records, \"sequences.fa\", \"fasta\")"
   ]
  },
  {
   "cell_type": "code",
   "execution_count": 150,
   "metadata": {},
   "outputs": [],
   "source": [
    "f = open('sites.txt','w')\n",
    "for ele in locations:\n",
    "    f.write(str(ele)+'\\n')\n",
    "f.close()"
   ]
  },
  {
   "cell_type": "code",
   "execution_count": 155,
   "metadata": {},
   "outputs": [],
   "source": [
    "f = open('motif.txt','w')\n",
    "f.write(\"MOTIF\"+ \" \"+ str(benchmark.ML) + '\\n')\n",
    "for ele in benchmark.motif:\n",
    "    a = list([str(a) for a in ele])\n",
    "    f.write(' '.join(a)+'\\n')\n",
    "f.close()"
   ]
  },
  {
   "cell_type": "code",
   "execution_count": 157,
   "metadata": {},
   "outputs": [],
   "source": [
    "f = open('motiflength.txt','w')\n",
    "f.write(str(benchmark.ML))\n",
    "f.close()"
   ]
  },
  {
   "cell_type": "code",
   "execution_count": null,
   "metadata": {},
   "outputs": [],
   "source": []
  }
 ],
 "metadata": {
  "language_info": {
   "codemirror_mode": {
    "name": "ipython",
    "version": 3
   },
   "file_extension": ".py",
   "mimetype": "text/x-python",
   "name": "python",
   "nbconvert_exporter": "python",
   "pygments_lexer": "ipython3",
   "version": "3.7.0-final"
  },
  "orig_nbformat": 2,
  "kernelspec": {
   "name": "python37032bitf232cf1337e04e6eac2b3b4cc20cea82",
   "display_name": "Python 3.7.0 32-bit"
  }
 },
 "nbformat": 4,
 "nbformat_minor": 2
}